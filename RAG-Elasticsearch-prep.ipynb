{
 "cells": [
  {
   "cell_type": "markdown",
   "id": "c3721e39-3250-43c6-8454-10b74276cf0b",
   "metadata": {},
   "source": [
    "\"Notebook magic\" commands to install packages that we will need."
   ]
  },
  {
   "cell_type": "code",
   "execution_count": null,
   "id": "c362d5d5-4c16-4eeb-b150-ade99465f42a",
   "metadata": {},
   "outputs": [],
   "source": [
    "!pip install dotenv\n",
    "!pip install elasticsearch"
   ]
  },
  {
   "cell_type": "markdown",
   "id": "7653ea7d-ce5f-43be-8bc8-9cb14057d507",
   "metadata": {},
   "source": [
    "Some imports and environment variables we will make use of to connect to Elasticsearch and OpenAI's LLM."
   ]
  },
  {
   "cell_type": "code",
   "execution_count": null,
   "id": "937bd7d3-aaa1-447e-95ed-73ceb7ac2f3d",
   "metadata": {},
   "outputs": [],
   "source": [
    "import requests\n",
    "from dotenv import load_dotenv\n",
    "import os\n",
    "\n",
    "# Export the API key to an environment variable\n",
    "if not os.path.exists('.env.instruqt'):\n",
    "    env_text = requests.get('http://kubernetes-vm:9000/env').text\n",
    "    with open('.env.instruqt', 'w') as f:\n",
    "        f.write(env_text)\n",
    "load_dotenv('.env.instruqt')"
   ]
  },
  {
   "cell_type": "markdown",
   "id": "55e3c966-3f0e-42e4-9df4-3052e1e29b46",
   "metadata": {},
   "source": [
    "Import the Elasticsearch module for python"
   ]
  },
  {
   "cell_type": "code",
   "execution_count": null,
   "id": "45047631-e13c-4c8c-818c-89c6edc00bf2",
   "metadata": {},
   "outputs": [],
   "source": [
    "from elasticsearch import Elasticsearch\n",
    "es_host = os.getenv(\"ELASTICSEARCH_URL\", None)\n",
    "es_api_key = os.getenv(\"ELASTICSEARCH_APIKEY\", None)"
   ]
  },
  {
   "cell_type": "code",
   "execution_count": null,
   "id": "a981ff9d-04e3-48ca-98d3-2c3c6d7118ae",
   "metadata": {},
   "outputs": [],
   "source": [
    "es = Elasticsearch(\n",
    "     hosts=[f\"{es_host}\"],\n",
    "     api_key=es_api_key,\n",
    ")"
   ]
  },
  {
   "cell_type": "code",
   "execution_count": null,
   "id": "78cffc2b-0ee0-43a8-9651-e7950375248f",
   "metadata": {
    "scrolled": true
   },
   "outputs": [],
   "source": [
    "es.info()"
   ]
  },
  {
   "cell_type": "code",
   "execution_count": null,
   "id": "cf0ade38-029b-4fc2-ba3c-680ddb790082",
   "metadata": {},
   "outputs": [],
   "source": [
    "#Little utility function for pretty printing JSON\n",
    "def jsn(x):\n",
    "    import json\n",
    "    x=dict(x)\n",
    "    print(json.dumps(x, indent=2, sort_keys=True))"
   ]
  },
  {
   "cell_type": "code",
   "execution_count": null,
   "id": "ca26ca54-fcf8-4f6f-ba5b-0659122ebbed",
   "metadata": {},
   "outputs": [],
   "source": [
    "#Helps to suppress spurious warnings\n",
    "import warnings\n",
    "warnings.filterwarnings('ignore')"
   ]
  },
  {
   "cell_type": "markdown",
   "id": "23139208-c526-43a0-90f4-9054d407106d",
   "metadata": {},
   "source": [
    "Connect to Elasticsearch and verify"
   ]
  },
  {
   "cell_type": "code",
   "execution_count": null,
   "id": "f633252f-a835-4721-bcdd-9c37db4caea6",
   "metadata": {},
   "outputs": [],
   "source": [
    "jsn(es.info())"
   ]
  },
  {
   "cell_type": "markdown",
   "id": "cc38ea91-53c1-4f1f-951d-0d7ecd73d68b",
   "metadata": {},
   "source": [
    "<br>"
   ]
  },
  {
   "cell_type": "markdown",
   "id": "0b0e6c9b-e2f8-4637-b213-fb46dacce88e",
   "metadata": {},
   "source": [
    "# Run searches on Elasticsearch #"
   ]
  },
  {
   "cell_type": "code",
   "execution_count": null,
   "id": "5d29aa4d-2ead-4ea3-a0a7-35248fee1929",
   "metadata": {},
   "outputs": [],
   "source": [
    "#function that runs a simple match query\n",
    "def retrieve_documents(query, top_n=2):\n",
    "    search_query = {\n",
    "        \"query\": {\n",
    "            \"match\": {\n",
    "                \"body\": query\n",
    "            }\n",
    "        }\n",
    "    }\n",
    "    response = es.search(index=\"elastic_blogs-full-embeddings_e5\", body=search_query)\n",
    "    top_docs = [hit[\"_source\"][\"body\"] for hit in response[\"hits\"][\"hits\"][:top_n]]\n",
    "    #top_docs = [hit[\"_source\"][\"content\"] for hit in response[\"hits\"][\"hits\"][:top_n]]\n",
    "    line_separated = \"\\n\\n\".join(top_docs)\n",
    "    print(line_separated)"
   ]
  },
  {
   "cell_type": "code",
   "execution_count": null,
   "id": "0f0bd1b9-d1a4-49c0-ae17-a70905139afb",
   "metadata": {
    "scrolled": true
   },
   "outputs": [],
   "source": [
    "retrieve_documents(\"Kibana for data analytics\",top_n=3)"
   ]
  },
  {
   "cell_type": "markdown",
   "id": "3dce473f-ec2b-4fe3-b12a-f6b5c44c96f7",
   "metadata": {},
   "source": [
    "<br>"
   ]
  },
  {
   "cell_type": "markdown",
   "id": "9f89ec33-b987-4865-9d02-f77a2c2aea1c",
   "metadata": {},
   "source": [
    "That was a simple match query, but we want to be able to run a more sophisticated lexical search on Elasticsearch so we can RAG to the LLM  more relevant documents."
   ]
  },
  {
   "cell_type": "markdown",
   "id": "4d32b1e8-11c9-45d1-beb1-8684af33524b",
   "metadata": {},
   "source": [
    "The function `create_response` can run searches by calling a search_template (which is more newly a search_application).\n",
    "The search application is running a hybrid search  -  lexical and semantic - combined using RRF."
   ]
  },
  {
   "cell_type": "code",
   "execution_count": null,
   "id": "a706eb13-ed33-4495-8901-5f188fa45acd",
   "metadata": {
    "scrolled": true
   },
   "outputs": [],
   "source": [
    "#First run with `render_query` to see the hybrid search and check that parameters get assigned values.\n",
    "\n",
    "app_name = \"RAG_application\"                   #search_application built in Kibana Console\n",
    "params1 = {\"query_string\" : \"My first query\",\"size\" : 2}\n",
    "\n",
    "create_response = es.search_application.render_query(name=app_name, params=params1)\n",
    "\n",
    "print(\"The render_query shows the search code is a bool and semantic search combined by RRF: \\n\")\n",
    "jsn(create_response)"
   ]
  },
  {
   "cell_type": "code",
   "execution_count": null,
   "id": "0f4c2890-d383-46cd-869f-9221eaf61eec",
   "metadata": {
    "scrolled": true
   },
   "outputs": [],
   "source": [
    "#run with \"search\" to do a search on Elasticsearch\n",
    "\n",
    "app_name = \"RAG_application\"\n",
    "params1 = {\"query_string\" : \"My first query\", \"size\" : 3}   #dictionary of key:values\n",
    "\n",
    "create_response = es.search_application.search(name=app_name, params=params1)\n",
    "\n",
    "print(\"Documents from running the query: \")\n",
    "jsn(create_response)"
   ]
  },
  {
   "cell_type": "code",
   "execution_count": null,
   "id": "cce697b8-40af-47e2-b6db-a7de146c122a",
   "metadata": {},
   "outputs": [],
   "source": [
    "#retrieve_documemts is a function to run a search template/application\n",
    "def retrieve_documents(query,  top_n=2, search_template=\"RAG_application\"):\n",
    "    params = {\"query_string\": query}\n",
    "    params[\"size\"]=top_n\n",
    "    response = es.search_application.search(name=search_template, params=params)\n",
    "    top_docs = [hit[\"_source\"][\"body\"] for hit in response[\"hits\"][\"hits\"][:top_n]]  \n",
    "    return \"\\n\".join(top_docs)"
   ]
  },
  {
   "cell_type": "code",
   "execution_count": null,
   "id": "c55db96a-9887-4861-a154-f3caed98805b",
   "metadata": {
    "scrolled": true
   },
   "outputs": [],
   "source": [
    "#unit test\n",
    "query = \"How can I secure my networks between elasticsearch nodes?\"\n",
    "retrieved_documents = retrieve_documents(query)\n",
    "print(\"Retrieved Documents:\", retrieved_documents)"
   ]
  }
 ],
 "metadata": {
  "kernelspec": {
   "display_name": "Python 3 (ipykernel)",
   "language": "python",
   "name": "python3"
  },
  "language_info": {
   "codemirror_mode": {
    "name": "ipython",
    "version": 3
   },
   "file_extension": ".py",
   "mimetype": "text/x-python",
   "name": "python",
   "nbconvert_exporter": "python",
   "pygments_lexer": "ipython3",
   "version": "3.11.7"
  }
 },
 "nbformat": 4,
 "nbformat_minor": 5
}
